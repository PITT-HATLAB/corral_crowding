{
  "cells": [
    {
      "cell_type": "code",
      "execution_count": 2,
      "metadata": {},
      "outputs": [],
      "source": [
        "# import networkx\n",
        "import lovelyplots\n",
        "import networkx as nx\n",
        "import numpy as np\n",
        "import rustworkx as rx\n",
        "import scienceplots\n",
        "from rustworkx.visualization import graphviz_draw, mpl_draw\n",
        "from scipy.optimize import minimize\n",
        "\n",
        "from corral_crowding.allocation_optimizer import GateFidelityOptimizer\n",
        "from corral_crowding.detuning_fit import compute_infidelity_parameters, decay_fit\n",
        "from corral_crowding.module_graph import QuantumModuleGraph"
      ]
    },
    {
      "cell_type": "code",
      "execution_count": null,
      "metadata": {},
      "outputs": [
        {
          "name": "stderr",
          "output_type": "stream",
          "text": [
            "  6%|\u258b         | 4/64 [00:00<00:05, 10.51it/s]"
          ]
        }
      ],
      "source": [
        "module = QuantumModuleGraph(num_qubits=4)\n",
        "optimizer = GateFidelityOptimizer(\n",
        "    module,\n",
        "    min_bare_space_ghz=0.2,\n",
        "    lambdaq=0.08,\n",
        "    eta=1.8,\n",
        "    g3=60e6,\n",
        "    qubit_bounds=(3.3, 5.7),\n",
        "    snail_bounds=(4.7, 4.7),\n",
        "    use_lifetime=True,\n",
        ")\n",
        "opt_frequencies, opt_cost = optimizer.optimize_frequencies()\n",
        "optimizer.report_results()"
      ]
    }
  ],
  "metadata": {
    "kernelspec": {
      "display_name": ".venv",
      "language": "python",
      "name": "python3"
    },
    "language_info": {
      "codemirror_mode": {
        "name": "ipython",
        "version": 3
      },
      "file_extension": ".py",
      "mimetype": "text/x-python",
      "name": "python",
      "nbconvert_exporter": "python",
      "pygments_lexer": "ipython3",
      "version": "3.11.11"
    }
  },
  "nbformat": 4,
  "nbformat_minor": 2
}
