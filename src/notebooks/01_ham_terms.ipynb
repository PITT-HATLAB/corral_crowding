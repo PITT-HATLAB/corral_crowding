{
  "cells": [
    {
      "cell_type": "code",
      "execution_count": 8,
      "metadata": {},
      "outputs": [
        {
          "name": "stdout",
          "output_type": "stream",
          "text": [
            "[1.0, 10.0, 0.06666666666666667, 10.0, 0.04444444444444444, 99.99999999999997, 0.017777777777777774]\n",
            "[0.009999999999999997, 0.0001, 0.1, 0.001, 0.1, 1.0]\n"
          ]
        }
      ],
      "source": [
        "import numpy as np\n",
        "\n",
        "# Device parameters\n",
        "n_s = 4\n",
        "lambdaq = 0.1\n",
        "eta = np.sqrt(n_s)\n",
        "alpha = 120e6  # 120 MHz\n",
        "N_q = 4\n",
        "g3 = 60e6  # Coupling strength g3 = 60 MHz\n",
        "\n",
        "# Intra-module prefactors\n",
        "intra_prefactors = [\n",
        "    6 * eta * lambdaq**2 * g3,  # qubit-qubit conversion\n",
        "    6 * eta * lambdaq * g3,  # snail-qubit conversion\n",
        "    alpha * eta**2 * lambdaq**3,  # snail-qubit sub conv\n",
        "    3 * eta**2 * lambdaq * g3,  # qubit sub harmonic (1/2)\n",
        "    alpha * eta**3 * lambdaq**3 / 3,  # qubit sub harmonic (1/3)\n",
        "    3 * eta**2 * g3,  # snail sub harmonic (1/2)\n",
        "    N_q * alpha * eta**3 * lambdaq**4 / 3,  # snail sub harmonic (1/3)\n",
        "]\n",
        "\n",
        "# Inter-module prefactors (with adjusted lambda powers)\n",
        "inter_prefactors = [\n",
        "    6 * eta * lambdaq**4 * g3,  # qubit-qubit conversion (overlapping qubit)\n",
        "    6 * eta * lambdaq**6 * g3,  # qubit-qubit conversion (non-overlapping qubit)\n",
        "    6 * eta * lambdaq**3 * g3,  # snail-qubit conversion (overlapping qubit)\n",
        "    6 * eta * lambdaq**5 * g3,  # snail-qubit conversion (non-overlapping qubit)\n",
        "    3 * eta**2 * lambdaq**3 * g3,  # qubit sub harmonic (non-overlapping)\n",
        "    3 * eta**2 * g3 * lambdaq**2,  # snail sub harmonic (neighbor module)\n",
        "]\n",
        "\n",
        "# Normalize prefactors by the first term (qubit-qubit conversion) of intra-module\n",
        "intra_normalized = [p / intra_prefactors[0] for p in intra_prefactors]\n",
        "inter_normalized = [p / intra_prefactors[0] for p in inter_prefactors]\n",
        "\n",
        "# Output results\n",
        "print(intra_normalized)\n",
        "print(inter_normalized)"
      ]
    },
    {
      "cell_type": "code",
      "execution_count": null,
      "metadata": {},
      "outputs": [
        {
          "data": {
            "text/plain": [
              "3.499999999999999"
            ]
          },
          "execution_count": 5,
          "metadata": {},
          "output_type": "execute_result"
        }
      ],
      "source": [
        "#  -\\alpha_i*\\eta**3*\\lambda**3 - \\alpha_i*\\eta*\\lambda**3 - \\alpha_i*\\eta*\\lambda\n",
        "[alpha * eta**3 * lambdaq**3, alpha * eta * lambdaq**3, alpha * eta * lambdaq]\n",
        "sum(\n",
        "    [alpha * eta**3 * lambdaq**3, alpha * eta * lambdaq**3, alpha * eta * lambdaq]\n",
        ") / intra_prefactors[0]"
      ]
    },
    {
      "cell_type": "code",
      "execution_count": null,
      "metadata": {},
      "outputs": [
        {
          "data": {
            "text/plain": [
              "1.4"
            ]
          },
          "execution_count": 7,
          "metadata": {},
          "output_type": "execute_result"
        }
      ],
      "source": [
        "# 4*\\alpha_i*\\eta**3*\\lambda**4 + 4*\\alpha_i*\\eta*\\lambda**4 + 4*\\alpha_i*\\eta*\\lambda**2 ([0^] + [0])\n",
        "temp = (\n",
        "    4 * alpha * eta**3 * lambdaq**4\n",
        "    + 4 * alpha * eta * lambdaq**4\n",
        "    + 4 * alpha * eta * lambdaq**2\n",
        ")\n",
        "temp / intra_prefactors[0]"
      ]
    }
  ],
  "metadata": {
    "kernelspec": {
      "display_name": ".venv",
      "language": "python",
      "name": "python3"
    },
    "language_info": {
      "codemirror_mode": {
        "name": "ipython",
        "version": 3
      },
      "file_extension": ".py",
      "mimetype": "text/x-python",
      "name": "python",
      "nbconvert_exporter": "python",
      "pygments_lexer": "ipython3",
      "version": "3.11.7"
    }
  },
  "nbformat": 4,
  "nbformat_minor": 2
}
