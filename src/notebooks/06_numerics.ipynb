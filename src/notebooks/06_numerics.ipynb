{
  "cells": [
    {
      "cell_type": "code",
      "execution_count": 4,
      "metadata": {},
      "outputs": [],
      "source": [
        "import lovelyplots\n",
        "import matplotlib.pyplot as plt\n",
        "import numpy as np\n",
        "import scienceplots\n",
        "from qutip import average_gate_fidelity, destroy, qeye, tensor\n",
        "from scipy.optimize import curve_fit\n",
        "\n",
        "from corral_crowding.detuning_fit import compute_infidelity_parameters, decay_fit"
      ]
    },
    {
      "cell_type": "code",
      "execution_count": 5,
      "metadata": {},
      "outputs": [],
      "source": [
        "# Define detuning range (MHz)\n",
        "detuning_list = np.linspace(50, 1000, 64)\n",
        "infidelity_params, fidelity_results = compute_infidelity_parameters(\n",
        "    detuning_list, lambdaq=0.08, eta=1.8, alpha=120e6, g3=60e6\n",
        ")"
      ]
    }
  ],
  "metadata": {
    "kernelspec": {
      "display_name": ".venv",
      "language": "python",
      "name": "python3"
    },
    "language_info": {
      "codemirror_mode": {
        "name": "ipython",
        "version": 3
      },
      "file_extension": ".py",
      "mimetype": "text/x-python",
      "name": "python",
      "nbconvert_exporter": "python",
      "pygments_lexer": "ipython3",
      "version": "3.11.11"
    }
  },
  "nbformat": 4,
  "nbformat_minor": 2
}
